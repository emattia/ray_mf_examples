{
 "cells": [
  {
   "cell_type": "code",
   "execution_count": 27,
   "metadata": {},
   "outputs": [
    {
     "name": "stdout",
     "output_type": "stream",
     "text": [
      "env: METAFLOW_PROFILE=oleg2\n"
     ]
    }
   ],
   "source": [
    "%env METAFLOW_PROFILE=oleg2\n",
    "from metaflow import Flow, Task\n",
    "import pandas as pd"
   ]
  },
  {
   "cell_type": "code",
   "execution_count": 11,
   "metadata": {},
   "outputs": [],
   "source": [
    "FLOW_NAME = \"RayCPU\"\n",
    "STEP_NAME = \"big_step\""
   ]
  },
  {
   "cell_type": "code",
   "execution_count": 28,
   "metadata": {},
   "outputs": [
    {
     "data": {
      "text/html": [
       "<div>\n",
       "<style scoped>\n",
       "    .dataframe tbody tr th:only-of-type {\n",
       "        vertical-align: middle;\n",
       "    }\n",
       "\n",
       "    .dataframe tbody tr th {\n",
       "        vertical-align: top;\n",
       "    }\n",
       "\n",
       "    .dataframe thead th {\n",
       "        text-align: right;\n",
       "    }\n",
       "</style>\n",
       "<table border=\"1\" class=\"dataframe\">\n",
       "  <thead>\n",
       "    <tr style=\"text-align: right;\">\n",
       "      <th></th>\n",
       "      <th>task_id</th>\n",
       "      <th>created_at</th>\n",
       "      <th>finished_at</th>\n",
       "    </tr>\n",
       "  </thead>\n",
       "  <tbody>\n",
       "    <tr>\n",
       "      <th>0</th>\n",
       "      <td>205832-start-1145252-node-1</td>\n",
       "      <td>2023-08-16 10:51:35.239</td>\n",
       "      <td>2023-08-16 10:51:39.442</td>\n",
       "    </tr>\n",
       "    <tr>\n",
       "      <th>1</th>\n",
       "      <td>205832-start-1145252-node-2</td>\n",
       "      <td>2023-08-16 10:51:34.050</td>\n",
       "      <td>2023-08-16 10:51:38.467</td>\n",
       "    </tr>\n",
       "    <tr>\n",
       "      <th>2</th>\n",
       "      <td>205832-start-1145252-node-3</td>\n",
       "      <td>2023-08-16 10:51:32.589</td>\n",
       "      <td>2023-08-16 10:51:36.916</td>\n",
       "    </tr>\n",
       "    <tr>\n",
       "      <th>3</th>\n",
       "      <td>control-205832-start-1145252</td>\n",
       "      <td>2023-08-16 10:48:08.196</td>\n",
       "      <td>2023-08-16 10:50:50.662</td>\n",
       "    </tr>\n",
       "  </tbody>\n",
       "</table>\n",
       "</div>"
      ],
      "text/plain": [
       "                        task_id              created_at  \\\n",
       "0   205832-start-1145252-node-1 2023-08-16 10:51:35.239   \n",
       "1   205832-start-1145252-node-2 2023-08-16 10:51:34.050   \n",
       "2   205832-start-1145252-node-3 2023-08-16 10:51:32.589   \n",
       "3  control-205832-start-1145252 2023-08-16 10:48:08.196   \n",
       "\n",
       "              finished_at  \n",
       "0 2023-08-16 10:51:39.442  \n",
       "1 2023-08-16 10:51:38.467  \n",
       "2 2023-08-16 10:51:36.916  \n",
       "3 2023-08-16 10:50:50.662  "
      ]
     },
     "execution_count": 28,
     "metadata": {},
     "output_type": "execute_result"
    }
   ],
   "source": [
    "flow = Flow(FLOW_NAME)\n",
    "run = flow.latest_run\n",
    "\n",
    "data = {\"task_id\": [], \"created_at\": [], \"finished_at\": []}\n",
    "\n",
    "for step in run:\n",
    "    if step.pathspec.split(\"/\")[-1] == STEP_NAME:\n",
    "        for task in step:\n",
    "            data[\"task_id\"].append(task.id)\n",
    "            data[\"created_at\"].append(task.created_at)\n",
    "            data[\"finished_at\"].append(task.finished_at)\n",
    "\n",
    "data = pd.DataFrame(data)\n",
    "data"
   ]
  }
 ],
 "metadata": {
  "kernelspec": {
   "display_name": "ray-test",
   "language": "python",
   "name": "python3"
  },
  "language_info": {
   "codemirror_mode": {
    "name": "ipython",
    "version": 3
   },
   "file_extension": ".py",
   "mimetype": "text/x-python",
   "name": "python",
   "nbconvert_exporter": "python",
   "pygments_lexer": "ipython3",
   "version": "3.9.16"
  },
  "orig_nbformat": 4
 },
 "nbformat": 4,
 "nbformat_minor": 2
}
